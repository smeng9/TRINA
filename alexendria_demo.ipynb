{
 "metadata": {
  "language_info": {
   "codemirror_mode": {
    "name": "ipython",
    "version": 3
   },
   "file_extension": ".py",
   "mimetype": "text/x-python",
   "name": "python",
   "nbconvert_exporter": "python",
   "pygments_lexer": "ipython3",
   "version": "3.6.9-final"
  },
  "orig_nbformat": 2,
  "kernelspec": {
   "name": "python_defaultSpec_1599769191653",
   "display_name": "Python 3.6.9 64-bit"
  }
 },
 "nbformat": 4,
 "nbformat_minor": 2,
 "cells": [
  {
   "cell_type": "code",
   "execution_count": 43,
   "metadata": {},
   "outputs": [],
   "source": [
    "import alexandria as fs"
   ]
  },
  {
   "cell_type": "code",
   "execution_count": 44,
   "metadata": {
    "tags": []
   },
   "outputs": [],
   "source": [
    "fileSystem = fs.jsonReader(\"configs\", \"meta.json\")"
   ]
  },
  {
   "cell_type": "code",
   "execution_count": 45,
   "metadata": {},
   "outputs": [
    {
     "output_type": "execute_result",
     "data": {
      "text/plain": "'configs'"
     },
     "metadata": {},
     "execution_count": 45
    }
   ],
   "source": [
    "fileSystem.get_name()"
   ]
  },
  {
   "cell_type": "code",
   "execution_count": 46,
   "metadata": {},
   "outputs": [
    {
     "output_type": "execute_result",
     "data": {
      "text/plain": "{'configuration': {'robot': {'ip': 'configs/ip.json',\n   'arms': 'configs/arms.json',\n   'left_arm_common': 'configs/left_arm_common.json',\n   'arm_links': 'configs/arm_links.json',\n   'calibrations': 'configs/calibrations.json'}},\n 'user': {'demo': 'configs/demo.json'}}"
     },
     "metadata": {},
     "execution_count": 46
    }
   ],
   "source": [
    "file_dir = fileSystem.get_directory()\n",
    "file_dir"
   ]
  },
  {
   "cell_type": "code",
   "execution_count": 47,
   "metadata": {},
   "outputs": [],
   "source": [
    "data = fileSystem.get_data()\n",
    "# data"
   ]
  },
  {
   "cell_type": "code",
   "execution_count": 48,
   "metadata": {},
   "outputs": [],
   "source": [
    "# fileSystem.get_values_list()"
   ]
  },
  {
   "cell_type": "code",
   "execution_count": 49,
   "metadata": {},
   "outputs": [
    {
     "output_type": "execute_result",
     "data": {
      "text/plain": "{'demo': {}}"
     },
     "metadata": {},
     "execution_count": 49
    }
   ],
   "source": [
    "data[\"user\"]"
   ]
  },
  {
   "cell_type": "code",
   "execution_count": 50,
   "metadata": {
    "tags": []
   },
   "outputs": [],
   "source": [
    "new_dir = {\"user\" : { \"location\" : \"configs/user_location.json\"}}"
   ]
  },
  {
   "cell_type": "code",
   "execution_count": 51,
   "metadata": {},
   "outputs": [
    {
     "output_type": "execute_result",
     "data": {
      "text/plain": "{'configuration': {'robot': {'ip': 'configs/ip.json',\n   'arms': 'configs/arms.json',\n   'left_arm_common': 'configs/left_arm_common.json',\n   'arm_links': 'configs/arm_links.json',\n   'calibrations': 'configs/calibrations.json'}},\n 'user': {'demo': 'configs/demo.json'}}"
     },
     "metadata": {},
     "execution_count": 51
    }
   ],
   "source": [
    "fileSystem.get_directory()"
   ]
  },
  {
   "cell_type": "code",
   "execution_count": 52,
   "metadata": {
    "tags": []
   },
   "outputs": [
    {
     "output_type": "stream",
     "name": "stdout",
     "text": "{'user': {'location': 'configs/user_location.json'}} True\n{'location': 'configs/user_location.json'} False\n{'user': {'location': 'configs/user_location.json'}}\nUpdated base configs\n"
    }
   ],
   "source": [
    "fileSystem.add_new_file(new_dir,data)"
   ]
  },
  {
   "cell_type": "code",
   "execution_count": 53,
   "metadata": {},
   "outputs": [
    {
     "output_type": "execute_result",
     "data": {
      "text/plain": "{'configuration': {'robot': {'ip': 'configs/ip.json',\n   'arms': 'configs/arms.json',\n   'left_arm_common': 'configs/left_arm_common.json',\n   'arm_links': 'configs/arm_links.json',\n   'calibrations': 'configs/calibrations.json'}},\n 'user': {'location': 'configs/user_location.json'}}"
     },
     "metadata": {},
     "execution_count": 53
    }
   ],
   "source": [
    "file_dir = fileSystem.get_directory()\n",
    "file_dir"
   ]
  },
  {
   "cell_type": "code",
   "execution_count": 58,
   "metadata": {
    "tags": []
   },
   "outputs": [
    {
     "output_type": "stream",
     "name": "stdout",
     "text": "Updated\n"
    }
   ],
   "source": [
    "fileSystem.update_file_with_dict(\"configs/user_location.json\", {\"location\": \"table\", \"color\": \"red\"})"
   ]
  },
  {
   "cell_type": "code",
   "execution_count": 60,
   "metadata": {
    "tags": []
   },
   "outputs": [
    {
     "output_type": "stream",
     "name": "stdout",
     "text": "Updating key: 'location' with value: table\nUpdated\n"
    }
   ],
   "source": [
    "fileSystem.update_file_config_with_key(\"configs/user_location.json\",\"location\",\"chair\")"
   ]
  },
  {
   "cell_type": "code",
   "execution_count": 61,
   "metadata": {
    "tags": []
   },
   "outputs": [
    {
     "output_type": "stream",
     "name": "stdout",
     "text": "Deleted locationfrom configs/user_location.json\n"
    }
   ],
   "source": [
    "fileSystem.delete_entry(\"configs/user_location.json\", \"location\")"
   ]
  },
  {
   "cell_type": "code",
   "execution_count": null,
   "metadata": {},
   "outputs": [],
   "source": []
  }
 ]
}