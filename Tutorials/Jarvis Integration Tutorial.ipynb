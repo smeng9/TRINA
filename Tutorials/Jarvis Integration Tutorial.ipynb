{
 "cells": [
  {
   "cell_type": "markdown",
   "metadata": {},
   "source": [
    "# Preparation\n",
    "The pre-requisites for the command server to work properly is that there must be a motion_server.py running (otherwise it has no way of connecting to it - thus this piece of code starts a command server for you, if you haven't )"
   ]
  },
  {
   "cell_type": "code",
   "execution_count": null,
   "metadata": {},
   "outputs": [],
   "source": [
    "from motion_client_python3 import MotionClient()\n",
    "import os,subprocess\n",
    "\n",
    "try:\n",
    "    a = MotionClient()"
   ]
  },
  {
   "cell_type": "markdown",
   "metadata": {},
   "source": [
    "# Imports\n",
    "Import both Jarvis and command_server (you won't need to import command server usually, as it should be always be running on TRINA_GPU, but if you're doing a local test, it has to be imported and instantiated)"
   ]
  },
  {
   "cell_type": "code",
   "execution_count": 24,
   "metadata": {},
   "outputs": [],
   "source": [
    "# from command_server import CommandServer\n",
    "from jarvis import Jarvis\n",
    "import time"
   ]
  },
  {
   "cell_type": "markdown",
   "metadata": {},
   "source": [
    "# Instantiate Jarvis and command server\n",
    "\n",
    "Same thing here, on real trina, you only need to import jarvis, as the command_server would always be running"
   ]
  },
  {
   "cell_type": "code",
   "execution_count": 30,
   "metadata": {},
   "outputs": [],
   "source": [
    "# command_server = CommandServer()\n",
    "# jarvis = Jarvis('C2')\n",
    "# j2 = Jarvis('C1')\n",
    "# j3 = Jarvis('PointClickNav')\n",
    "test = Jarvis('UI')\n",
    "# test2 = Jarvis('test2')\n"
   ]
  },
  {
   "cell_type": "code",
   "execution_count": 31,
   "metadata": {},
   "outputs": [
    {
     "name": "stdout",
     "output_type": "stream",
     "text": [
      "{u'PointClickNav': u'idle', u'C2': u'idle', u'C1': u'idle', u'UI': u'idle', u'DirectTeleOperation': u'idle'}\n"
     ]
    }
   ],
   "source": [
    "print(test.server['ACTIVITY_STATUS'].read())\n"
   ]
  },
  {
   "cell_type": "code",
   "execution_count": 20,
   "metadata": {},
   "outputs": [
    {
     "data": {
      "text/plain": [
       "[-3.2235968570015534,\n",
       " -1.6376341400571033,\n",
       " 0,\n",
       " -2.8903999999999086,\n",
       " 0,\n",
       " 0,\n",
       " 0,\n",
       " -0.2028,\n",
       " -2.1063,\n",
       " -1.61,\n",
       " 3.7165,\n",
       " -0.9622,\n",
       " 0.0974,\n",
       " 0,\n",
       " 0,\n",
       " 0.2028,\n",
       " -1.035292653589793,\n",
       " 1.61,\n",
       " -0.5749073464102068,\n",
       " 0.9622,\n",
       " -0.0974,\n",
       " 0]"
      ]
     },
     "execution_count": 20,
     "metadata": {},
     "output_type": "execute_result"
    }
   ],
   "source": [
    "test.sensedRobotq()"
   ]
  },
  {
   "cell_type": "code",
   "execution_count": 18,
   "metadata": {},
   "outputs": [
    {
     "name": "stdout",
     "output_type": "stream",
     "text": [
      "{u'PointClickNav': [], u'C2': [], u'C1': [], u'UI': []}\n",
      "{u'PointClickNav': [], u'C2': [], u'C1': [], u'UI': []}\n"
     ]
    }
   ],
   "source": [
    "\n",
    "# # for i in a.keys():\n",
    "# #     k = jarvis.server['ACTIVITY_STATUS'][i]\n",
    "print(test.server['ROBOT_COMMAND'].read())\n",
    "# test.changeActivityStatus([str('C2')])\n",
    "print(test.server['ROBOT_COMMAND'].read())\n",
    "\n",
    "# print(jarvis.server['ROBOT_COMMAND'].read())\n",
    "# time.sleep(0.01)\n",
    "\n"
   ]
  },
  {
   "cell_type": "code",
   "execution_count": null,
   "metadata": {
    "scrolled": true
   },
   "outputs": [],
   "source": [
    "for i in range(10):\n",
    "#     test.setBaseVelocity([1,1])\n",
    "#     jarvis.setBaseVelocity([0,0])\n",
    "    j2.setBaseVelocity([0,0])\n",
    "#     j3.setBaseVelocity([0,1])\n",
    "    print(jarvis.server['ROBOT_COMMAND'].read())\n"
   ]
  },
  {
   "cell_type": "code",
   "execution_count": null,
   "metadata": {},
   "outputs": [],
   "source": [
    "j2.setBaseVelocity([0.01,0])"
   ]
  },
  {
   "cell_type": "markdown",
   "metadata": {},
   "source": [
    "# New heading"
   ]
  },
  {
   "cell_type": "code",
   "execution_count": null,
   "metadata": {},
   "outputs": [],
   "source": [
    "from multiprocessing import Manager\n",
    "\n",
    "manager = Manager()\n",
    "d = manager.set()\n",
    "d['a'] = 0"
   ]
  },
  {
   "cell_type": "code",
   "execution_count": null,
   "metadata": {},
   "outputs": [],
   "source": [
    "dir(manager)"
   ]
  },
  {
   "cell_type": "code",
   "execution_count": null,
   "metadata": {},
   "outputs": [],
   "source": []
  }
 ],
 "metadata": {
  "kernelspec": {
   "display_name": "Python 2",
   "language": "python",
   "name": "python2"
  },
  "language_info": {
   "codemirror_mode": {
    "name": "ipython",
    "version": 2
   },
   "file_extension": ".py",
   "mimetype": "text/x-python",
   "name": "python",
   "nbconvert_exporter": "python",
   "pygments_lexer": "ipython2",
   "version": "2.7.17"
  },
  "toc": {
   "base_numbering": 1,
   "nav_menu": {},
   "number_sections": true,
   "sideBar": true,
   "skip_h1_title": false,
   "title_cell": "Table of Contents",
   "title_sidebar": "Contents",
   "toc_cell": false,
   "toc_position": {},
   "toc_section_display": true,
   "toc_window_display": false
  }
 },
 "nbformat": 4,
 "nbformat_minor": 2
}
