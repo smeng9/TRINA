{
 "cells": [
  {
   "cell_type": "code",
   "execution_count": 1,
   "metadata": {
    "scrolled": true
   },
   "outputs": [
    {
     "name": "stdout",
     "output_type": "stream",
     "text": [
      "Requirement already satisfied: pyyaml in /usr/lib/python3/dist-packages (5.3.1)\n",
      "3.8.2\n",
      "Requirement already satisfied: tqdm in /home/motion/.local/lib/python3.8/site-packages (4.50.1)\n",
      "Requirement already satisfied: wurlitzer in /home/motion/.local/lib/python3.8/site-packages (2.0.1)\n",
      "Requirement already satisfied: opencv-python in /home/motion/.local/lib/python3.8/site-packages (4.4.0.44)\n",
      "Requirement already satisfied: numpy>=1.17.3 in /usr/lib/python3/dist-packages (from opencv-python) (1.17.4)\n",
      "Requirement already satisfied: PyQt5 in /usr/lib/python3/dist-packages (5.14.1)\n"
     ]
    }
   ],
   "source": [
    "from platform import python_version\n",
    "!pip3 install pyyaml\n",
    "print(python_version())\n",
    "!pip3 install tqdm\n",
    "!pip3 install wurlitzer\n",
    "!pip3 install opencv-python\n",
    "!pip3 install PyQt5\n"
   ]
  },
  {
   "cell_type": "code",
   "execution_count": 2,
   "metadata": {},
   "outputs": [],
   "source": [
    "# import sys\n",
    "# sys.path.remove('/opt/ros/kinetic/lib/python2.7/dist-packages') # in order to import cv2 under python3\n",
    "# import cv2\n",
    "# # sys.path.append('/opt/ros/kinetic/lib/python2.7/dist-packages') # append back in order to import rospy"
   ]
  },
  {
   "cell_type": "code",
   "execution_count": 1,
   "metadata": {},
   "outputs": [
    {
     "name": "stdout",
     "output_type": "stream",
     "text": [
      "***  klampt.vis: using Qt5 as the visualization backend  ***\n"
     ]
    }
   ],
   "source": [
    "%reload_ext wurlitzer\n",
    "\n",
    "\n",
    "import sys\n",
    "try:\n",
    "    sys.path.remove('/opt/ros/kinetic/lib/python2.7/dist-packages') # in order to import cv2 under python3\n",
    "except:\n",
    "    pass\n",
    "\n",
    "sys.path.append(\"/home/motion/TRINA/\")\n",
    "import atexit\n",
    "import numpy as np\n",
    "import open3d as o3d\n",
    "import pickle\n",
    "import klampt\n",
    "import numpy\n",
    "import time\n",
    "#import import_ipynb\n",
    "#import HW5_soln\n",
    "import vision\n",
    "import segmentation as segm\n",
    "\n",
    "from klampt.math import se3\n",
    "from motion_client_python3 import MotionClient\n",
    "from klampt import vis, Geometry3D\n",
    "from klampt.model import sensing\n",
    "from OpenGL.GLUT import *\n",
    "from threading import Thread\n",
    "from SensorModule import Camera_Robot\n",
    "from klampt import sim\n",
    "from tqdm import tqdm\n",
    "from vision import PointCloud"
   ]
  },
  {
   "cell_type": "markdown",
   "metadata": {},
   "source": [
    "# This is just Yifan´s world creation tool - copied it here so I wouldn't have to merge the repos prematurely. "
   ]
  },
  {
   "cell_type": "code",
   "execution_count": 2,
   "metadata": {
    "code_folding": [
     12
    ]
   },
   "outputs": [],
   "source": [
    "from klampt import WorldModel,Geometry3D\n",
    "from klampt import vis\n",
    "from klampt.math import so3,se3\n",
    "import trimesh\n",
    "import os\n",
    "import random\n",
    "import numpy as np\n",
    "import math\n",
    "\n",
    "model_path = '../Resources/shared_data/objects/'\n",
    "mesh_model_path = '../Resources/grasping/models/'\n",
    "\n",
    "class testingWorldBuilder():\n",
    "    def __init__(self,floor_length = 20, floor_width = 20,world = []):\n",
    "        if(world == []):\n",
    "            self.w = WorldModel()\n",
    "        else:\n",
    "            self.w = world\n",
    "        self.floor =  Geometry3D()\n",
    "        self.floor.loadFile(model_path+\"cube.off\")\n",
    "        self.floor.transform([floor_length,0,0,0,floor_width,0,0,0,0.01],[-floor_length/2.0,-floor_width/2.0,-0.01])\n",
    "        floor_terrain = self.w.makeTerrain(\"floor\")\n",
    "        floor_terrain.geometry().set(self.floor)\n",
    "        floor_terrain.appearance().setColor(0.4,0.3,0.2,1.0)\n",
    "\n",
    "        ###colors\n",
    "        self.light_blue = [3.0/255.0, 140.0/255.0, 252.0/255.0,1.0]\n",
    "        self.wall_green = [50.0/255.0, 168.0/255.0, 143.0/255.0,1.0]\n",
    "        ###sizes\n",
    "        self.table_length = 1.2\n",
    "        self.table_width = 0.8\n",
    "        self.table_top_thickness = 0.03\n",
    "        self.table_height = 0.8\n",
    "        self.leg_width = 0.05\n",
    "        self.cube_width = 0.05\n",
    "    def getWorld(self):\n",
    "        return self.w\n",
    "\n",
    "    def addTableTopScenario(self,x=0,y=0):\n",
    "        \"\"\"\n",
    "        add a table with objects on top, the center of table can be set\n",
    "        Parameters:\n",
    "        --------------\n",
    "        x,y: floats, the position of the table center\n",
    "        \"\"\"\n",
    "\n",
    "        self.addTable(x,y)\n",
    "        # add some cubes\n",
    "        self.addCube((so3.from_axis_angle(([0,0,1],0.5)),[x,y-0.7,self.table_height]),self.cube_width,[1.0,0,0,1],1)\n",
    "        # add one mesh\n",
    "        self.addRandomMesh([0+x,-1.0+y,self.table_height],1)\n",
    "        self.addRandomMesh([0+x,-1.2+y,self.table_height],2)\n",
    "        self.addRandomMesh([0.2+x,-1.0+y,self.table_height],3)\n",
    "        self.addRandomMesh([-0.2+x,-1.2+y,self.table_height],4)\n",
    "\n",
    "    def addIndoorNavScenario(self):\n",
    "        \"\"\"\n",
    "        Add 4 rooms and a table\n",
    "        \"\"\"\n",
    "\n",
    "        wall_thickness = 0.2\n",
    "        room_size = [8.0,6.0,4.0]\n",
    "        self.addRoom(room_size,wall_thickness,T=([1,0,0,0,1,0,0,0,1],[-6,-6,0]),ID = 1 )\n",
    "        self.addRoom(room_size,wall_thickness,T=([1,0,0,0,1,0,0,0,1],[6,-6,0]),ID = 2 )\n",
    "        self.addRoom(room_size,wall_thickness,T=(so3.from_axis_angle(([0,0,1],math.pi/1.0)),[6,6,0]),ID = 3 )\n",
    "        self.addRoom(room_size,wall_thickness,T=(so3.from_axis_angle(([0,0,1],math.pi/1.0)),[-6,6,0]),ID = 4 )\n",
    "        self.addTable(-6,-6)\n",
    "        return\n",
    "\n",
    "    def addRoom(self,room_size = [10.0,8.0,4.0],wall_thickness = 0.2,T=([1,0,0,0,1,0,0,0,1],[0,0,0]),ID = 1 ):\n",
    "        \"\"\"\n",
    "        Add a room to the world\n",
    "        Parameters:\n",
    "        -------------------\n",
    "        room_size = list of 3 floats, the width,depth, and height of the room\n",
    "        wall_thickess = float\n",
    "        T:rigid transform of the room\n",
    "        ID: ID of the room\n",
    "        \"\"\"\n",
    "\n",
    "        #left wall\n",
    "        self._addTerrain(model_path + \"cube.off\",se3.mul(T,([wall_thickness,0,0,0,room_size[1]-wall_thickness,0,0,0,room_size[2]],\\\n",
    "            [-room_size[0]/2.0,-room_size[1]/2.0,0])),self.wall_green,\"wall1_\"+str(ID))\n",
    "        #wall with window\n",
    "        self._addTerrain(model_path + \"cube.off\",se3.mul(T,([room_size[0],0,0,0,wall_thickness,0,0,0,1],\\\n",
    "            [-room_size[0]/2.0,-room_size[1]/2.0,0])),self.wall_green,\"wall2_\"+str(ID))\n",
    "        self._addTerrain(model_path + \"cube.off\",se3.mul(T,([room_size[0],0,0,0,wall_thickness,0,0,0,2],\\\n",
    "            [-room_size[0]/2.0,-room_size[1]/2.0,2])),self.wall_green,\"wall3_\"+str(ID))\n",
    "        self._addTerrain(model_path + \"cube.off\",se3.mul(T,([room_size[0]/2.0-0.5,0,0,0,wall_thickness,0,0,0,1],\\\n",
    "            [-room_size[0]/2.0,-room_size[1]/2.0,1])),self.wall_green,\"wall4_\"+str(ID))\n",
    "        self._addTerrain(model_path + \"cube.off\",se3.mul(T,([room_size[0]/2.0-0.5,0,0,0,wall_thickness,0,0,0,1],\\\n",
    "            [0.5,-room_size[1]/2.0,1])),self.wall_green,\"wall5_\"+str(ID))\n",
    "\n",
    "        #right wall\n",
    "        self._addTerrain(model_path + \"cube.off\",se3.mul(T,([wall_thickness,0,0,0,room_size[1]-wall_thickness,0,0,0,room_size[2]],\\\n",
    "            [room_size[0]/2.0-wall_thickness,-room_size[1]/2.0,0])),self.wall_green,\"wall6_\"+str(ID))\n",
    "\n",
    "        #the wall with door\n",
    "        self._addTerrain(model_path + \"cube.off\",se3.mul(T,([room_size[0]-2.5,0,0,0,wall_thickness,0,0,0,room_size[2]],\\\n",
    "            [-room_size[0]/2.0,room_size[1]/2.0-wall_thickness,0])),self.wall_green,\"wall7_\"+str(ID))\n",
    "        self._addTerrain(model_path + \"cube.off\",se3.mul(T,([1,0,0,0,wall_thickness,0,0,0,room_size[2]],\\\n",
    "            [-room_size[0]/2.0+(room_size[0]-1),room_size[1]/2.0-wall_thickness,0])),self.wall_green,\"wall8_\"+str(ID))\n",
    "        self._addTerrain(model_path + \"cube.off\",se3.mul(T,([1.5,0,0,0,wall_thickness,0,0,0,1],\\\n",
    "            [-room_size[0]/2.0+(room_size[0]-1-1.5),room_size[1]/2.0-wall_thickness,3])),self.wall_green,\"wall9_\"+str(ID))\n",
    "\n",
    "    ##Functions below add individual objects\n",
    "    def addCube(self,T,side_length,color,ID,object_mass = 0.1):\n",
    "        \"\"\"\n",
    "        Add a cube to the world.\n",
    "        Parameters:\n",
    "        --------------\n",
    "        T:world transform of the cube\n",
    "        side_length: float, size of the cube\n",
    "        color: RGBA values, (0-1)\n",
    "        ID: int, cannot duplicate\n",
    "        mass:object mass added at the object geometric center\n",
    "        \"\"\"\n",
    "\n",
    "        self._addRigidObject(model_path + \"cube.off\",([side_length,0,0,0,side_length,0,0,0,side_length,],[0,0,0]),T,\\\n",
    "            color,object_mass,[side_length/2.0,side_length/2.0,side_length/2.0],\"cube\"+str(ID))\n",
    "\n",
    "    def addMesh(self,path,T,color,mass,ID):\n",
    "        \"\"\"\n",
    "        Add a mesh to the world.\n",
    "        Parameters:\n",
    "        --------------\n",
    "        path: path to the mesh file\n",
    "        T:world transform of the mesh\n",
    "        color: RGBA values, (0-1)\n",
    "        mass:object mass added at the object geometric center\n",
    "        ID: int, cannot duplicate\n",
    "        \"\"\"\n",
    "        mesh = trimesh.load(path)\n",
    "        mesh_center = mesh.centroid.tolist()\n",
    "\n",
    "        # load the rigid object in the world\n",
    "        self._addRigidObject(path,([1,0,0,0,1,0,0,0,1],[0]*3),T,\\\n",
    "            color,mass,mesh_center,\"item\"+str(ID))\n",
    "\n",
    "    def addRandomMesh(self,t,ID = 1):\n",
    "        \"\"\"\n",
    "        Add a household item to the world, randonmly selected from the library.\n",
    "        Color is also determined randomly. Mass set to 1kg arbitrarily\n",
    "        Parameters:\n",
    "        --------------\n",
    "        t:world position of the mesh\n",
    "        ID: int, cannot duplicate\n",
    "        \"\"\"\n",
    "        meshpaths = []\n",
    "        for file in os.listdir(mesh_model_path):\n",
    "            if file.endswith(\".ply\"):\n",
    "                meshpaths.append(os.path.join(mesh_model_path, file))\n",
    "\n",
    "        meshpath = random.choice(meshpaths)\n",
    "        mesh = trimesh.load(meshpath)\n",
    "        mesh_center = mesh.centroid.tolist()\n",
    "        #Z_min = np.min(mesh.vertices[:,2])\n",
    "\n",
    "        #t[2] = t[2]+mesh_center[2]-Z_min\n",
    "        # load the rigid object in the world\n",
    "        self._addRigidObject(meshpath,([1,0,0,0,1,0,0,0,1],[0]*3),([1,0,0,0,1,0,0,0,1],t),\\\n",
    "            (random.random(),random.random(),random.random(),1.0),0.1,mesh_center,\"item\"+str(ID))\n",
    "\n",
    "    def addTable(self,x=0,y=0):\n",
    "        \"\"\"\n",
    "        Add a table to the world\n",
    "        Parameters:\n",
    "        --------------\n",
    "        x,y: floats, the x,y position of the center of the table\n",
    "        \"\"\"\n",
    "        table_top = Geometry3D()\n",
    "        table_leg_1 = Geometry3D()\n",
    "        table_leg_2 = Geometry3D()\n",
    "        table_leg_3 = Geometry3D()\n",
    "        table_leg_4 = Geometry3D()\n",
    "\n",
    "        table_top.loadFile(model_path + \"cube.off\")\n",
    "        table_leg_1.loadFile(model_path + \"cube.off\")\n",
    "        table_leg_2.loadFile(model_path + \"cube.off\")\n",
    "        table_leg_3.loadFile(model_path + \"cube.off\")\n",
    "        table_leg_4.loadFile(model_path + \"cube.off\")\n",
    "\n",
    "        table_top.transform([self.table_length,0,0,0,self.table_width,0,0,0,\\\n",
    "            self.table_top_thickness],[0,0,self.table_height - self.table_top_thickness])\n",
    "        table_leg_1.transform([self.leg_width,0,0,0,self.leg_width,0,0,0,self.table_height\\\n",
    "            - self.table_top_thickness],[0,0,0])\n",
    "        table_leg_2.transform([self.leg_width,0,0,0,self.leg_width,0,0,0,self.table_height - \\\n",
    "            self.table_top_thickness],[self.table_length-self.leg_width,0,0])\n",
    "        table_leg_3.transform([self.leg_width,0,0,0,self.leg_width,0,0,0,self.table_height - \n",
    "            self.table_top_thickness],[self.table_length-self.leg_width,self.table_width-self.leg_width,0])\n",
    "        table_leg_4.transform([self.leg_width,0,0,0,self.leg_width,0,0,0,self.table_height - \n",
    "            self.table_top_thickness],[0,self.table_width-self.leg_width,0])\n",
    "\n",
    "        table_geom = Geometry3D()\n",
    "        table_geom.setGroup()\n",
    "        for i,elem in enumerate([table_top,table_leg_1,table_leg_2,table_leg_3,table_leg_4]):\n",
    "            g = Geometry3D(elem)\n",
    "            table_geom.setElement(i,g)\n",
    "        table_geom.transform([0,-1,0,1,0,0,0,0,1],[x-self.table_length/2.0,y-self.table_width/2.0,0])\n",
    "        table = self.w.makeTerrain(\"table\")\n",
    "        table.geometry().set(table_geom)\n",
    "        table.appearance().setColor(self.light_blue[0],self.light_blue[1],self.light_blue[2],self.light_blue[3])\n",
    "\n",
    "    def addRobot(self,path,T):\n",
    "        \"\"\"\n",
    "        Add a robot to the world. You can directly use Klampt functions to add to the world as well\n",
    "        Parameters:\n",
    "        ------------\n",
    "        path: path to the robot model\n",
    "        T: transform of the base of the robot\n",
    "        \"\"\"\n",
    "\n",
    "        world.loadElement(path)\n",
    "        item = world.rigidObject(0)\n",
    "        item.setTransform([1,0,0,0,1,0,0,0,1],[ee_pos[0]-mesh_center[0],ee_pos[1]-mesh_center[1],-Zmin+0.02])\n",
    "\n",
    "    def _addRigidObject(self,path,T_g,T_p,color,object_mass,Com,name):\n",
    "        item_1_geom = Geometry3D()\n",
    "        item_1_geom.loadFile(path) \n",
    "        item_1_geom.transform(T_g[0],T_g[1])\n",
    "        item_1 = self.w.makeRigidObject(name)\n",
    "        item_1.geometry().set(item_1_geom)\n",
    "        item_1.appearance().setColor(color[0],color[1],color[2],color[3])\n",
    "        bmass = item_1.getMass()\n",
    "        bmass.setMass(object_mass)\n",
    "        bmass.setCom(Com)\n",
    "        item_1.setMass(bmass)\n",
    "        item_1.setTransform(T_p[0],T_p[1])\n",
    "        return item_1\n",
    "\n",
    "    def _addTerrain(self,path,T,color,name):\n",
    "        item_1_geom = Geometry3D()\n",
    "        item_1_geom.loadFile(path) \n",
    "        item_1_geom.transform(T[0],T[1])\n",
    "        item_1 = self.w.makeTerrain(name)\n",
    "        item_1.geometry().set(item_1_geom)\n",
    "        item_1.appearance().setColor(color[0],color[1],color[2],color[3])\n",
    "        return item_1\n",
    "\n",
    "# shelf = make_shelf(w,*shelf_dims)\n",
    "# shelf.geometry().translate((shelf_offset_x,shelf_offset_y,shelf_height))\n",
    "\n",
    "#vis.add(\"world\",testingWorldBuilder().w)\n",
    "#vis.run()\n",
    "\n",
    "# help(testingWorldBuilder)\n"
   ]
  },
  {
   "cell_type": "code",
   "execution_count": 4,
   "metadata": {
    "scrolled": true
   },
   "outputs": [
    {
     "name": "stdout",
     "output_type": "stream",
     "text": [
      "init complete\n",
      "startup called\n",
      "sending startup\n",
      "URDFParser: Link size: 22\n",
      "URDFParser: Joint size: 17\n",
      "LoadAssimp: Loaded model with 1212 verts and 712 tris\n",
      "LoadAssimp: Loaded model with 230 verts and 152 tris\n",
      "LoadAssimp: Loaded model with 775 verts and 336 tris\n",
      "LoadAssimp: Loaded model with 722 verts and 340 tris\n",
      "LoadAssimp: Loaded model with 936 verts and 408 tris\n",
      "LoadAssimp: Loaded model with 739 verts and 322 tris\n",
      "LoadAssimp: Loaded model with 739 verts and 322 tris\n",
      "LoadAssimp: Loaded model with 566 verts and 376 tris\n",
      "LoadAssimp: Loaded model with 24 verts and 12 tris\n",
      "LoadAssimp: Loaded model with 230 verts and 152 tris\n",
      "LoadAssimp: Loaded model with 775 verts and 336 tris\n",
      "LoadAssimp: Loaded model with 722 verts and 340 tris\n",
      "LoadAssimp: Loaded model with 936 verts and 408 tris\n",
      "LoadAssimp: Loaded model with 739 verts and 322 tris\n",
      "LoadAssimp: Loaded model with 739 verts and 322 tris\n",
      "LoadAssimp: Loaded model with 566 verts and 376 tris\n",
      "LoadAssimp: Loaded model with 24 verts and 12 tris\n",
      "URDFParser: Done loading robot file ./data/robots/Anthrax_lowpoly.urdf\n",
      "LoadAssimp: Loaded model with 4355 verts and 8706 tris\n",
      "LoadAssimp: Loaded model with 1607 verts and 3210 tris\n",
      "LoadAssimp: Loaded model with 8595 verts and 17186 tris\n",
      "INITIALIZING Qt BACKENDLoadAssimp: Loaded model with 1566 verts and 3207 tris\n",
      "\n"
     ]
    },
    {
     "name": "stderr",
     "output_type": "stream",
     "text": [
      "WARNING: QApplication was not created in the main() thread.\n"
     ]
    },
    {
     "name": "stdout",
     "output_type": "stream",
     "text": [
      "gets here\n",
      "vis: creating GL window\n",
      "INITIALIZING Qt BACKEND\n",
      "######### QGLWidget setProgram ###############\n",
      "#########################################\n",
      "klampt.vis: Making window 0\n",
      "#########################################\n",
      "######### QGLWidget Initialize GL ###############\n",
      "TriMeshTopology: mesh has 729 triangles with duplicate neighbors!\n",
      "  Triangle range 24 to 3180\n",
      "  May see strange results for some triangle mesh operations\n",
      "#########################################\n",
      "klampt.vis: Window close\n",
      "#########################################\n",
      "Visualization thread closing and cleaning up Qt...\n",
      "######### QGLWidget close ###############\n"
     ]
    },
    {
     "ename": "Fault",
     "evalue": "<Fault 1: \"<class 'IndexError'>:string index out of range\">",
     "output_type": "error",
     "traceback": [
      "\u001b[0;31m---------------------------------------------------------------------------\u001b[0m",
      "\u001b[0;31mFault\u001b[0m                                     Traceback (most recent call last)",
      "\u001b[0;32m<ipython-input-4-dea099449096>\u001b[0m in \u001b[0;36m<module>\u001b[0;34m\u001b[0m\n\u001b[1;32m     58\u001b[0m \u001b[0;34m\u001b[0m\u001b[0m\n\u001b[1;32m     59\u001b[0m \u001b[0;31m# leftUntuckedConfig2 = [-0.2028,-2.1063,-1.610,3.7165,-0.9622,0.0974]\u001b[0m\u001b[0;34m\u001b[0m\u001b[0;34m\u001b[0m\u001b[0;34m\u001b[0m\u001b[0m\n\u001b[0;32m---> 60\u001b[0;31m \u001b[0mrightUntuckedConfig2\u001b[0m \u001b[0;34m=\u001b[0m \u001b[0mrobot\u001b[0m\u001b[0;34m.\u001b[0m\u001b[0mmirror_arm_config\u001b[0m\u001b[0;34m(\u001b[0m\u001b[0mleftUntuckedConfig2\u001b[0m\u001b[0;34m)\u001b[0m\u001b[0;34m\u001b[0m\u001b[0;34m\u001b[0m\u001b[0m\n\u001b[0m\u001b[1;32m     61\u001b[0m \u001b[0;31m#robot.setLeftLimbPositionLinear(leftUntuckedConfig2,2)\u001b[0m\u001b[0;34m\u001b[0m\u001b[0;34m\u001b[0m\u001b[0;34m\u001b[0m\u001b[0m\n\u001b[1;32m     62\u001b[0m \u001b[0mrobot\u001b[0m\u001b[0;34m.\u001b[0m\u001b[0msetRightLimbPositionLinear\u001b[0m\u001b[0;34m(\u001b[0m\u001b[0mrightUntuckedConfig2\u001b[0m\u001b[0;34m,\u001b[0m\u001b[0;36m2\u001b[0m\u001b[0;34m)\u001b[0m\u001b[0;34m\u001b[0m\u001b[0;34m\u001b[0m\u001b[0m\n",
      "\u001b[0;32m~/TRINA/Motion/motion_client_python3.py\u001b[0m in \u001b[0;36mmirror_arm_config\u001b[0;34m(self, config)\u001b[0m\n\u001b[1;32m    165\u001b[0m \u001b[0;34m\u001b[0m\u001b[0m\n\u001b[1;32m    166\u001b[0m         \u001b[0;32mdef\u001b[0m \u001b[0mmirror_arm_config\u001b[0m\u001b[0;34m(\u001b[0m\u001b[0mself\u001b[0m\u001b[0;34m,\u001b[0m\u001b[0mconfig\u001b[0m\u001b[0;34m)\u001b[0m\u001b[0;34m:\u001b[0m\u001b[0;34m\u001b[0m\u001b[0;34m\u001b[0m\u001b[0m\n\u001b[0;32m--> 167\u001b[0;31m                 \u001b[0;32mreturn\u001b[0m \u001b[0mself\u001b[0m\u001b[0;34m.\u001b[0m\u001b[0ms\u001b[0m\u001b[0;34m.\u001b[0m\u001b[0mmirror_arm_config\u001b[0m\u001b[0;34m(\u001b[0m\u001b[0mconfig\u001b[0m\u001b[0;34m)\u001b[0m\u001b[0;34m\u001b[0m\u001b[0;34m\u001b[0m\u001b[0m\n\u001b[0m\u001b[1;32m    168\u001b[0m \u001b[0;34m\u001b[0m\u001b[0m\n\u001b[1;32m    169\u001b[0m         \u001b[0;31m# def getWorld(self):\u001b[0m\u001b[0;34m\u001b[0m\u001b[0;34m\u001b[0m\u001b[0;34m\u001b[0m\u001b[0m\n",
      "\u001b[0;32m/usr/lib/python3.8/xmlrpc/client.py\u001b[0m in \u001b[0;36m__call__\u001b[0;34m(self, *args)\u001b[0m\n\u001b[1;32m   1107\u001b[0m         \u001b[0;32mreturn\u001b[0m \u001b[0m_Method\u001b[0m\u001b[0;34m(\u001b[0m\u001b[0mself\u001b[0m\u001b[0;34m.\u001b[0m\u001b[0m__send\u001b[0m\u001b[0;34m,\u001b[0m \u001b[0;34m\"%s.%s\"\u001b[0m \u001b[0;34m%\u001b[0m \u001b[0;34m(\u001b[0m\u001b[0mself\u001b[0m\u001b[0;34m.\u001b[0m\u001b[0m__name\u001b[0m\u001b[0;34m,\u001b[0m \u001b[0mname\u001b[0m\u001b[0;34m)\u001b[0m\u001b[0;34m)\u001b[0m\u001b[0;34m\u001b[0m\u001b[0;34m\u001b[0m\u001b[0m\n\u001b[1;32m   1108\u001b[0m     \u001b[0;32mdef\u001b[0m \u001b[0m__call__\u001b[0m\u001b[0;34m(\u001b[0m\u001b[0mself\u001b[0m\u001b[0;34m,\u001b[0m \u001b[0;34m*\u001b[0m\u001b[0margs\u001b[0m\u001b[0;34m)\u001b[0m\u001b[0;34m:\u001b[0m\u001b[0;34m\u001b[0m\u001b[0;34m\u001b[0m\u001b[0m\n\u001b[0;32m-> 1109\u001b[0;31m         \u001b[0;32mreturn\u001b[0m \u001b[0mself\u001b[0m\u001b[0;34m.\u001b[0m\u001b[0m__send\u001b[0m\u001b[0;34m(\u001b[0m\u001b[0mself\u001b[0m\u001b[0;34m.\u001b[0m\u001b[0m__name\u001b[0m\u001b[0;34m,\u001b[0m \u001b[0margs\u001b[0m\u001b[0;34m)\u001b[0m\u001b[0;34m\u001b[0m\u001b[0;34m\u001b[0m\u001b[0m\n\u001b[0m\u001b[1;32m   1110\u001b[0m \u001b[0;34m\u001b[0m\u001b[0m\n\u001b[1;32m   1111\u001b[0m \u001b[0;31m##\u001b[0m\u001b[0;34m\u001b[0m\u001b[0;34m\u001b[0m\u001b[0;34m\u001b[0m\u001b[0m\n",
      "\u001b[0;32m/usr/lib/python3.8/xmlrpc/client.py\u001b[0m in \u001b[0;36m__request\u001b[0;34m(self, methodname, params)\u001b[0m\n\u001b[1;32m   1448\u001b[0m                         allow_none=self.__allow_none).encode(self.__encoding, 'xmlcharrefreplace')\n\u001b[1;32m   1449\u001b[0m \u001b[0;34m\u001b[0m\u001b[0m\n\u001b[0;32m-> 1450\u001b[0;31m         response = self.__transport.request(\n\u001b[0m\u001b[1;32m   1451\u001b[0m             \u001b[0mself\u001b[0m\u001b[0;34m.\u001b[0m\u001b[0m__host\u001b[0m\u001b[0;34m,\u001b[0m\u001b[0;34m\u001b[0m\u001b[0;34m\u001b[0m\u001b[0m\n\u001b[1;32m   1452\u001b[0m             \u001b[0mself\u001b[0m\u001b[0;34m.\u001b[0m\u001b[0m__handler\u001b[0m\u001b[0;34m,\u001b[0m\u001b[0;34m\u001b[0m\u001b[0;34m\u001b[0m\u001b[0m\n",
      "\u001b[0;32m/usr/lib/python3.8/xmlrpc/client.py\u001b[0m in \u001b[0;36mrequest\u001b[0;34m(self, host, handler, request_body, verbose)\u001b[0m\n\u001b[1;32m   1151\u001b[0m         \u001b[0;32mfor\u001b[0m \u001b[0mi\u001b[0m \u001b[0;32min\u001b[0m \u001b[0;34m(\u001b[0m\u001b[0;36m0\u001b[0m\u001b[0;34m,\u001b[0m \u001b[0;36m1\u001b[0m\u001b[0;34m)\u001b[0m\u001b[0;34m:\u001b[0m\u001b[0;34m\u001b[0m\u001b[0;34m\u001b[0m\u001b[0m\n\u001b[1;32m   1152\u001b[0m             \u001b[0;32mtry\u001b[0m\u001b[0;34m:\u001b[0m\u001b[0;34m\u001b[0m\u001b[0;34m\u001b[0m\u001b[0m\n\u001b[0;32m-> 1153\u001b[0;31m                 \u001b[0;32mreturn\u001b[0m \u001b[0mself\u001b[0m\u001b[0;34m.\u001b[0m\u001b[0msingle_request\u001b[0m\u001b[0;34m(\u001b[0m\u001b[0mhost\u001b[0m\u001b[0;34m,\u001b[0m \u001b[0mhandler\u001b[0m\u001b[0;34m,\u001b[0m \u001b[0mrequest_body\u001b[0m\u001b[0;34m,\u001b[0m \u001b[0mverbose\u001b[0m\u001b[0;34m)\u001b[0m\u001b[0;34m\u001b[0m\u001b[0;34m\u001b[0m\u001b[0m\n\u001b[0m\u001b[1;32m   1154\u001b[0m             \u001b[0;32mexcept\u001b[0m \u001b[0mhttp\u001b[0m\u001b[0;34m.\u001b[0m\u001b[0mclient\u001b[0m\u001b[0;34m.\u001b[0m\u001b[0mRemoteDisconnected\u001b[0m\u001b[0;34m:\u001b[0m\u001b[0;34m\u001b[0m\u001b[0;34m\u001b[0m\u001b[0m\n\u001b[1;32m   1155\u001b[0m                 \u001b[0;32mif\u001b[0m \u001b[0mi\u001b[0m\u001b[0;34m:\u001b[0m\u001b[0;34m\u001b[0m\u001b[0;34m\u001b[0m\u001b[0m\n",
      "\u001b[0;32m/usr/lib/python3.8/xmlrpc/client.py\u001b[0m in \u001b[0;36msingle_request\u001b[0;34m(self, host, handler, request_body, verbose)\u001b[0m\n\u001b[1;32m   1167\u001b[0m             \u001b[0;32mif\u001b[0m \u001b[0mresp\u001b[0m\u001b[0;34m.\u001b[0m\u001b[0mstatus\u001b[0m \u001b[0;34m==\u001b[0m \u001b[0;36m200\u001b[0m\u001b[0;34m:\u001b[0m\u001b[0;34m\u001b[0m\u001b[0;34m\u001b[0m\u001b[0m\n\u001b[1;32m   1168\u001b[0m                 \u001b[0mself\u001b[0m\u001b[0;34m.\u001b[0m\u001b[0mverbose\u001b[0m \u001b[0;34m=\u001b[0m \u001b[0mverbose\u001b[0m\u001b[0;34m\u001b[0m\u001b[0;34m\u001b[0m\u001b[0m\n\u001b[0;32m-> 1169\u001b[0;31m                 \u001b[0;32mreturn\u001b[0m \u001b[0mself\u001b[0m\u001b[0;34m.\u001b[0m\u001b[0mparse_response\u001b[0m\u001b[0;34m(\u001b[0m\u001b[0mresp\u001b[0m\u001b[0;34m)\u001b[0m\u001b[0;34m\u001b[0m\u001b[0;34m\u001b[0m\u001b[0m\n\u001b[0m\u001b[1;32m   1170\u001b[0m \u001b[0;34m\u001b[0m\u001b[0m\n\u001b[1;32m   1171\u001b[0m         \u001b[0;32mexcept\u001b[0m \u001b[0mFault\u001b[0m\u001b[0;34m:\u001b[0m\u001b[0;34m\u001b[0m\u001b[0;34m\u001b[0m\u001b[0m\n",
      "\u001b[0;32m/usr/lib/python3.8/xmlrpc/client.py\u001b[0m in \u001b[0;36mparse_response\u001b[0;34m(self, response)\u001b[0m\n\u001b[1;32m   1339\u001b[0m         \u001b[0mp\u001b[0m\u001b[0;34m.\u001b[0m\u001b[0mclose\u001b[0m\u001b[0;34m(\u001b[0m\u001b[0;34m)\u001b[0m\u001b[0;34m\u001b[0m\u001b[0;34m\u001b[0m\u001b[0m\n\u001b[1;32m   1340\u001b[0m \u001b[0;34m\u001b[0m\u001b[0m\n\u001b[0;32m-> 1341\u001b[0;31m         \u001b[0;32mreturn\u001b[0m \u001b[0mu\u001b[0m\u001b[0;34m.\u001b[0m\u001b[0mclose\u001b[0m\u001b[0;34m(\u001b[0m\u001b[0;34m)\u001b[0m\u001b[0;34m\u001b[0m\u001b[0;34m\u001b[0m\u001b[0m\n\u001b[0m\u001b[1;32m   1342\u001b[0m \u001b[0;34m\u001b[0m\u001b[0m\n\u001b[1;32m   1343\u001b[0m \u001b[0;31m##\u001b[0m\u001b[0;34m\u001b[0m\u001b[0;34m\u001b[0m\u001b[0;34m\u001b[0m\u001b[0m\n",
      "\u001b[0;32m/usr/lib/python3.8/xmlrpc/client.py\u001b[0m in \u001b[0;36mclose\u001b[0;34m(self)\u001b[0m\n\u001b[1;32m    653\u001b[0m             \u001b[0;32mraise\u001b[0m \u001b[0mResponseError\u001b[0m\u001b[0;34m(\u001b[0m\u001b[0;34m)\u001b[0m\u001b[0;34m\u001b[0m\u001b[0;34m\u001b[0m\u001b[0m\n\u001b[1;32m    654\u001b[0m         \u001b[0;32mif\u001b[0m \u001b[0mself\u001b[0m\u001b[0;34m.\u001b[0m\u001b[0m_type\u001b[0m \u001b[0;34m==\u001b[0m \u001b[0;34m\"fault\"\u001b[0m\u001b[0;34m:\u001b[0m\u001b[0;34m\u001b[0m\u001b[0;34m\u001b[0m\u001b[0m\n\u001b[0;32m--> 655\u001b[0;31m             \u001b[0;32mraise\u001b[0m \u001b[0mFault\u001b[0m\u001b[0;34m(\u001b[0m\u001b[0;34m**\u001b[0m\u001b[0mself\u001b[0m\u001b[0;34m.\u001b[0m\u001b[0m_stack\u001b[0m\u001b[0;34m[\u001b[0m\u001b[0;36m0\u001b[0m\u001b[0;34m]\u001b[0m\u001b[0;34m)\u001b[0m\u001b[0;34m\u001b[0m\u001b[0;34m\u001b[0m\u001b[0m\n\u001b[0m\u001b[1;32m    656\u001b[0m         \u001b[0;32mreturn\u001b[0m \u001b[0mtuple\u001b[0m\u001b[0;34m(\u001b[0m\u001b[0mself\u001b[0m\u001b[0;34m.\u001b[0m\u001b[0m_stack\u001b[0m\u001b[0;34m)\u001b[0m\u001b[0;34m\u001b[0m\u001b[0;34m\u001b[0m\u001b[0m\n\u001b[1;32m    657\u001b[0m \u001b[0;34m\u001b[0m\u001b[0m\n",
      "\u001b[0;31mFault\u001b[0m: <Fault 1: \"<class 'IndexError'>:string index out of range\">"
     ]
    }
   ],
   "source": [
    "from TRINAConfig import *\n",
    "\n",
    "mode = 'Kinematic'\n",
    "components = []\n",
    "robot = MotionClient(address = 'http://localhost:8080')\n",
    "robot.startServer(mode = mode, components = components,codename = 'anthrax_lowpoly')\n",
    "startup = True\n",
    "res = robot.startup()\n",
    "time.sleep(1)\n",
    "world = WorldModel()\n",
    "world.readFile('./data/TRINA_world_anthrax_lowpoly.xml')\n",
    "visualization_robot = world.robot(0)\n",
    "builder = testingWorldBuilder(30,30,world = world)\n",
    "builder.addTableTopScenario(x = 1.5,y = 1.0)\n",
    "world = builder.getWorld()\n",
    "\n",
    "vis.add('world',world)\n",
    "vis.show()\n",
    "leftUntuckedConfig = [-0.2028,-2.1063,-1.610,3.7165,-0.9622,0.0974]\n",
    "rightUntuckedConfig = robot.mirror_arm_config(leftUntuckedConfig)\n",
    "robot.setLeftLimbPositionLinear(leftUntuckedConfig,2)\n",
    "robot.setRightLimbPositionLinear(rightUntuckedConfig,2)\n",
    "print('gets here')\n",
    "\n",
    "while vis.shown():\n",
    "    vis.lock()\n",
    "    #update the visualization robot configuration\n",
    "    ll = robot.sensedLeftLimbPosition()\n",
    "    rl = robot.sensedRightLimbPosition()\n",
    "    base = robot.sensedBasePosition()\n",
    "    current_config = get_klampt_model_q('anthrax_lowpoly',left_limb = ll,right_limb = rl,base = base)\n",
    "    visualization_robot.setConfig(current_config)\n",
    "    vis.unlock()\n",
    "    time.sleep(0.03)\n",
    "    \n",
    "vis.kill()\n",
    "\n",
    "\n",
    "\n",
    "\n",
    "\n",
    "#right\n",
    "time.sleep(2.0)\n",
    "leftEETransform = robot.sensedLeftEETransform()\n",
    "leftEETransform[1][2] = leftEETransform[1][2] + 0.5\n",
    "robot.setLeftEEInertialTransform(leftEETransform, 1.0)\n",
    "time.sleep(1.0)\n",
    "q = robot.sensedLeftLimbPosition()\n",
    "\n",
    "robot.shutdown()\n",
    "\n",
    "\n",
    "\n",
    "\n",
    "\n",
    "Target = [[1.0, 0.0, 0.0, 0.0, 1.0, 0.0, 0.0, 0.0 ,1.0], [0.5, 0.0, builder.table_height]]\n",
    "leftUntuckedConfig2 = robot.setLeftEEInertialTransform(Target, 1.0)\n",
    "\n",
    "# leftUntuckedConfig2 = [-0.2028,-2.1063,-1.610,3.7165,-0.9622,0.0974]\n",
    "rightUntuckedConfig2 = robot.mirror_arm_config(leftUntuckedConfig2)\n",
    "#robot.setLeftLimbPositionLinear(leftUntuckedConfig2,2)\n",
    "robot.setRightLimbPositionLinear(rightUntuckedConfig2,2)\n"
   ]
  },
  {
   "cell_type": "code",
   "execution_count": 10,
   "metadata": {
    "scrolled": true
   },
   "outputs": [
    {
     "name": "stdout",
     "output_type": "stream",
     "text": [
      "ODESimulator: Initializing ODE...\n",
      "Initializing simulation...\n",
      "WorldSimulator: Creating WorldSimulation\n",
      "ODESimulator: ODERobot: Warning, turning off joint stops on joint 2 (link left_shoulder_link) because of ODE range mismatch\n",
      "ODESimulator: ODERobot: Warning, turning off joint stops on joint 3 (link left_upperarm_link) because of ODE range mismatch\n",
      "ODESimulator: ODERobot: Warning, turning off joint stops on joint 4 (link left_forearm_link) because of ODE range mismatch\n",
      "ODESimulator: ODERobot: Warning, turning off joint stops on joint 5 (link left_wrist1_link) because of ODE range mismatch\n",
      "ODESimulator: ODERobot: Warning, turning off joint stops on joint 6 (link left_wrist2_link) because of ODE range mismatch\n",
      "ODESimulator: ODERobot: Warning, turning off joint stops on joint 7 (link left_wrist3_link) because of ODE range mismatch\n",
      "ODESimulator: ODERobot: Warning, turning off joint stops on joint 10 (link right_shoulder_link) because of ODE range mismatch\n",
      "ODESimulator: ODERobot: Warning, turning off joint stops on joint 11 (link right_upperarm_link) because of ODE range mismatch\n",
      "ODESimulator: ODERobot: Warning, turning off joint stops on joint 12 (link right_forearm_link) because of ODE range mismatch\n",
      "ODESimulator: ODERobot: Warning, turning off joint stops on joint 13 (link right_wrist1_link) because of ODE range mismatch\n",
      "ODESimulator: ODERobot: Warning, turning off joint stops on joint 14 (link right_wrist2_link) because of ODE range mismatch\n",
      "ODESimulator: ODERobot: Warning, turning off joint stops on joint 15 (link right_wrist3_link) because of ODE range mismatch\n",
      "WorldSimulator: WorldSimulation: Link 7 (left_shoulder_link) can make complete turn, using relative encoding\n",
      "WorldSimulator: WorldSimulation: Link 8 (left_upperarm_link) can make complete turn, using relative encoding\n",
      "WorldSimulator: WorldSimulation: Link 9 (left_forearm_link) can make complete turn, using relative encoding\n",
      "WorldSimulator: WorldSimulation: Link 10 (left_wrist1_link) can make complete turn, using relative encoding\n",
      "WorldSimulator: WorldSimulation: Link 11 (left_wrist2_link) can make complete turn, using relative encoding\n",
      "WorldSimulator: WorldSimulation: Link 12 (left_wrist3_link) can make complete turn, using relative encoding\n",
      "WorldSimulator: WorldSimulation: Link 15 (right_shoulder_link) can make complete turn, using relative encoding\n",
      "WorldSimulator: WorldSimulation: Link 16 (right_upperarm_link) can make complete turn, using relative encoding\n",
      "WorldSimulator: WorldSimulation: Link 17 (right_forearm_link) can make complete turn, using relative encoding\n",
      "WorldSimulator: WorldSimulation: Link 18 (right_wrist1_link) can make complete turn, using relative encoding\n",
      "WorldSimulator: WorldSimulation: Link 19 (right_wrist2_link) can make complete turn, using relative encoding\n",
      "WorldSimulator: WorldSimulation: Link 20 (right_wrist3_link) can make complete turn, using relative encoding\n",
      "WorldSimulator: Done.\n",
      "XmlParser: RobotSensors::LoadSettings: loaded 3 sensors from XML\n",
      "Done\n"
     ]
    },
    {
     "name": "stderr",
     "output_type": "stream",
     "text": [
      "/home/motion/TRINA/SensorModule/sensorModule.py:413: SyntaxWarning: The publisher should be created with an explicit keyword argument 'queue_size'. Please see http://wiki.ros.org/rospy/Overview/Publishers%20and%20Subscribers for more information.\n",
      "  pub = rospy.Publisher(\"base_scan\", sensor_msgs.msg.LaserScan)\n"
     ]
    },
    {
     "name": "stdout",
     "output_type": "stream",
     "text": [
      "init complete\n"
     ]
    }
   ],
   "source": [
    "\n",
    "\n",
    "# global crobot\n",
    "crobot = Camera_Robot(robot = robot,world = world)\n",
    "\n",
    "# after starting the sensor module, we then refresh our motion_client to avoid conflics:\n",
    "robot2 = MotionClient(address = 'http://localhost:8080')\n",
    "\n",
    "#robot2.setLeftLimbPositionLinear([0,0,0,0,0,0],1)\n",
    "\n",
    "\n",
    "\n"
   ]
  },
  {
   "cell_type": "code",
   "execution_count": 11,
   "metadata": {
    "scrolled": true
   },
   "outputs": [
    {
     "name": "stdout",
     "output_type": "stream",
     "text": [
      "Using matplotlib backend: TkAgg\n",
      "Using matplotlib backend: TkAgg\n"
     ]
    }
   ],
   "source": [
    "%matplotlib \n",
    "#calling it a second time may prevent some graphics errors\n",
    "%matplotlib   \n",
    "\n",
    "\n",
    "from matplotlib import pyplot as  plt\n",
    "import matplotlib.animation as animation\n",
    "\n",
    "def visualize_sensor_feeds():\n",
    "    \n",
    "    fig = plt.figure()\n",
    "\n",
    "    a = crobot.get_rgbd_images()\n",
    "\n",
    "\n",
    "    # im = plt.imshow(a['realsense_left'][0], animated=True)\n",
    "\n",
    "    #create two subplots\n",
    "    ax1 = plt.subplot(1,2,1)\n",
    "    ax2 = plt.subplot(1,2,2)\n",
    "\n",
    "    im1 = ax1.imshow(a['realsense_left'][0],animated = True)\n",
    "    im2 = ax2.imshow(a['realsense_right'][0],animated = True)\n",
    "\n",
    "\n",
    "    def updatefig(*args):\n",
    "        global crobot\n",
    "        try:\n",
    "            a = crobot.get_rgbd_images()\n",
    "            im1.set_array(a['realsense_left'][0])\n",
    "            im2.set_array(a['realsense_right'][0])\n",
    "            print('updating')\n",
    "            return im1,im2\n",
    "        except Exception as e:\n",
    "            print(e)\n",
    "\n",
    "    ani = animation.FuncAnimation(fig, updatefig, interval=100, blit=True)\n",
    "    plt.show()\n",
    "    return ani\n",
    "# help(Camera_Robot)"
   ]
  },
  {
   "cell_type": "code",
   "execution_count": 12,
   "metadata": {},
   "outputs": [
    {
     "data": {
      "text/plain": [
       "<matplotlib.animation.FuncAnimation at 0x7fca141063d0>"
      ]
     },
     "execution_count": 12,
     "metadata": {},
     "output_type": "execute_result"
    },
    {
     "name": "stdout",
     "output_type": "stream",
     "text": [
      "updating\n",
      "updating\n",
      "updating\n",
      "updating\n",
      "updating\n",
      "updating\n",
      "updating\n",
      "updating\n",
      "updating\n",
      "updating\n",
      "updating\n",
      "updating\n",
      "updating\n",
      "updating\n",
      "updating\n",
      "updating\n",
      "updating\n",
      "updating\n",
      "updating\n",
      "updating\n",
      "updating\n",
      "updating\n"
     ]
    }
   ],
   "source": [
    "## call this function before executing your commands and you will be able to see the \"live \" feed from your ca\n",
    "## mera sensors.\n",
    "visualize_sensor_feeds()"
   ]
  },
  {
   "cell_type": "code",
   "execution_count": 13,
   "metadata": {},
   "outputs": [
    {
     "data": {
      "text/plain": [
       "''"
      ]
     },
     "execution_count": 13,
     "metadata": {},
     "output_type": "execute_result"
    }
   ],
   "source": [
    "time.sleep(2.0)\n",
    "temp = robot2.sensedLeftEETransform()\n",
    "temp[1][2] = temp[1][2] + 0.2\n",
    "robot2.setLeftEEInertialTransform(temp, 1.0)"
   ]
  },
  {
   "cell_type": "code",
   "execution_count": 14,
   "metadata": {},
   "outputs": [
    {
     "data": {
      "text/plain": [
       "[[0.9996544243864657,\n",
       "  0.018934365962944497,\n",
       "  0.018235174530171563,\n",
       "  0.026109820300145796,\n",
       "  -0.6346525188660825,\n",
       "  -0.7723564316951288,\n",
       "  -0.0030510798840130025,\n",
       "  0.7725656412775026,\n",
       "  -0.6349275713252834],\n",
       " [0.6411069078969306, 0.19642768532841487, 1.5547532298405269]]"
      ]
     },
     "execution_count": 14,
     "metadata": {},
     "output_type": "execute_result"
    }
   ],
   "source": [
    "temp"
   ]
  },
  {
   "cell_type": "code",
   "execution_count": 15,
   "metadata": {},
   "outputs": [
    {
     "data": {
      "text/plain": [
       "0"
      ]
     },
     "execution_count": 15,
     "metadata": {},
     "output_type": "execute_result"
    }
   ],
   "source": [
    "temp = robot2.sensedLeftEETransform()\n",
    "leftEETransform = [[0.866025,0,-0.5,0,1,0,0.5,0,0.866025],[temp[1][0],temp[1][1],temp[1][2]]]  #rotate 30deg\n",
    "#leftEETransform[1][2] = leftEETransform[1][2]+0.3\n",
    "robot2.setLeftEEInertialTransform(leftEETransform, 1.0)\n",
    "\n",
    "time.sleep(2.0)\n",
    "q = robot2.sensedLeftLimbPosition()\n",
    "\n",
    "p = robot.mirror_arm_config(q)\n",
    "robot2.setRightLimbPositionLinear(p,1.0)"
   ]
  },
  {
   "cell_type": "code",
   "execution_count": 11,
   "metadata": {},
   "outputs": [],
   "source": [
    "# robot2.setLeftLimbPositionLinear([0,0,0,0,0,0],5)\n",
    "# robot2.setRightLimbPositionLinear([0,0,0,0,0,0],5)"
   ]
  },
  {
   "cell_type": "code",
   "execution_count": 16,
   "metadata": {
    "scrolled": true
   },
   "outputs": [
    {
     "data": {
      "text/plain": [
       "0"
      ]
     },
     "execution_count": 16,
     "metadata": {},
     "output_type": "execute_result"
    }
   ],
   "source": [
    "leftUntuckedConfig[-1] =2.4\n",
    "rightUntuckedConfig[-1] = -2.4\n",
    "robot2.setLeftLimbPositionLinear(leftUntuckedConfig,5)\n",
    "robot2.setRightLimbPositionLinear(rightUntuckedConfig,5)\n"
   ]
  },
  {
   "cell_type": "code",
   "execution_count": 17,
   "metadata": {},
   "outputs": [],
   "source": [
    "a = crobot.get_rgbd_images()\n",
    "plt.imshow(a['realsense_left'][0])\n",
    "plt.show()"
   ]
  },
  {
   "cell_type": "code",
   "execution_count": 18,
   "metadata": {},
   "outputs": [
    {
     "name": "stdout",
     "output_type": "stream",
     "text": [
      "[[  2.99058985 -11.96857609   5.59324017]\n",
      " [  3.01992191 -11.94257944   5.57004286]\n",
      " [  3.0960315  -11.89236743   5.51791696]\n",
      " ...\n",
      " [ 12.56485405   2.05374285   6.04065755]\n",
      " [ 12.61407804   2.07832471   6.02770378]\n",
      " [ 12.63507445   2.09814284   6.00228954]]\n",
      "-1.2168921420181205\n"
     ]
    }
   ],
   "source": [
    "b = crobot.get_point_clouds()\n",
    "o3d.io.write_point_cloud(\"sample_table.pcd\", b['realsense_right'])\n",
    "#help(crobot.get_point_clouds)\n",
    "#print(type(crobot)\n",
    "\n",
    "#B_PointCloud = PointCloud(b)\n",
    "\n",
    "# data = list(b.items())\n",
    "# point_clouds_array = np.array(data,dtype=float)\n",
    "# #print(type(point_clouds_array))\n",
    "# B_PointCloud = PointCloud(point_clouds_array)\n",
    "# bplane = B_PointCloud.extract_plane()\n",
    "# o3d.visualization.draw_geometries([b['realsense_right']])\n",
    "# bplane = segm.plane_extraction(b['realsense_right'])\n",
    "print(np.asarray(b['realsense_right'].points))\n",
    "print(np.min(np.asarray(b['realsense_right'].points)[:,2]))\n",
    "\n",
    "mesh_frame = o3d.geometry.TriangleMesh.create_coordinate_frame(\n",
    "        size=0.6, origin=[0,0,0])\n",
    "o3d.visualization.draw_geometries([b['realsense_right'],mesh_frame])\n",
    "# for i in range(50):\n",
    "#     print(bplane[i*int(len(bplane)/51)])"
   ]
  },
  {
   "cell_type": "code",
   "execution_count": 19,
   "metadata": {
    "scrolled": true
   },
   "outputs": [
    {
     "name": "stderr",
     "output_type": "stream",
     "text": [
      "100%|██████████| 300/300 [00:07<00:00, 39.15it/s]\n"
     ]
    }
   ],
   "source": [
    "leftUntuckedConfig = [-0.2028,-2.1063,-1.610,3.7165,-0.9622,0.0974]\n",
    "rightUntuckedConfig = robot.mirror_arm_config(leftUntuckedConfig)\n",
    "# print('right_Untucked',rightUntuckedConfig)\n",
    "# robot.setLeftLimbPositionLinear(leftUntuckedConfig,2)\n",
    "# robot.setRightLimbPositionLinear(rightUntuckedConfig,2)\n",
    "for i in tqdm(range(300)):\n",
    "    a = crobot.get_rgbd_images()\n",
    "    plt.imshow(a['realsense_left'][0])\n",
    "    plt.show()"
   ]
  },
  {
   "cell_type": "code",
   "execution_count": 11,
   "metadata": {
    "scrolled": true
   },
   "outputs": [],
   "source": [
    "a = crobot.get_rgbd_images()\n",
    "plt.imshow(a['realsense_left'][0])\n",
    "plt.show()"
   ]
  },
  {
   "cell_type": "code",
   "execution_count": null,
   "metadata": {},
   "outputs": [],
   "source": [
    "\n",
    "# robot.sensedLeftEETransform()"
   ]
  },
  {
   "cell_type": "code",
   "execution_count": null,
   "metadata": {},
   "outputs": [],
   "source": [
    "a['realsense_left'][0]"
   ]
  },
  {
   "cell_type": "code",
   "execution_count": null,
   "metadata": {},
   "outputs": [],
   "source": []
  },
  {
   "cell_type": "markdown",
   "metadata": {},
   "source": [
    "# Mesh Experiments"
   ]
  },
  {
   "cell_type": "code",
   "execution_count": 20,
   "metadata": {},
   "outputs": [
    {
     "name": "stderr",
     "output_type": "stream",
     "text": [
      "Exception in thread Thread-24:\n",
      "Traceback (most recent call last):\n",
      "  File \"/usr/lib/python3.8/threading.py\", line 932, in _bootstrap_inner\n",
      "    self.run()\n",
      "  File \"/usr/lib/python3.8/threading.py\", line 870, in run\n",
      "    self._target(*self._args, **self._kwargs)\n",
      "  File \"/home/motion/TRINA/SensorModule/sensorModule.py\", line 383, in update_point_clouds\n",
      "    self.left_point_cloud = sensing.camera_to_points(\n",
      "  File \"/home/motion/.local/lib/python3.8/site-packages/klampt/model/sensing.py\", line 236, in camera_to_points\n",
      "    if int(camera.getSetting('rgb'))==0:\n",
      "  File \"/home/motion/.local/lib/python3.8/site-packages/klampt/robotsim.py\", line 6769, in getSetting\n",
      "    return _robotsim.SimRobotSensor_getSetting(self, name)\n",
      "RuntimeError: Setting rgb not supported\n"
     ]
    }
   ],
   "source": [
    "mesh_frame = o3d.geometry.TriangleMesh.create_coordinate_frame(\n",
    "        size=0.6, origin=[0,0,0])\n",
    "o3d.visualization.draw_geometries([mesh_frame])\n"
   ]
  },
  {
   "cell_type": "code",
   "execution_count": null,
   "metadata": {},
   "outputs": [],
   "source": [
    "crobot.Rtranslation"
   ]
  }
 ],
 "metadata": {
  "kernelspec": {
   "display_name": "Python 3",
   "language": "python",
   "name": "python3"
  },
  "language_info": {
   "codemirror_mode": {
    "name": "ipython",
    "version": 3
   },
   "file_extension": ".py",
   "mimetype": "text/x-python",
   "name": "python",
   "nbconvert_exporter": "python",
   "pygments_lexer": "ipython3",
   "version": "3.8.2"
  },
  "toc": {
   "base_numbering": 1,
   "nav_menu": {},
   "number_sections": true,
   "sideBar": true,
   "skip_h1_title": false,
   "title_cell": "Table of Contents",
   "title_sidebar": "Contents",
   "toc_cell": false,
   "toc_position": {},
   "toc_section_display": true,
   "toc_window_display": false
  },
  "varInspector": {
   "cols": {
    "lenName": 16,
    "lenType": 16,
    "lenVar": 40
   },
   "kernels_config": {
    "python": {
     "delete_cmd_postfix": "",
     "delete_cmd_prefix": "del ",
     "library": "var_list.py",
     "varRefreshCmd": "print(var_dic_list())"
    },
    "r": {
     "delete_cmd_postfix": ") ",
     "delete_cmd_prefix": "rm(",
     "library": "var_list.r",
     "varRefreshCmd": "cat(var_dic_list()) "
    }
   },
   "types_to_exclude": [
    "module",
    "function",
    "builtin_function_or_method",
    "instance",
    "_Feature"
   ],
   "window_display": false
  }
 },
 "nbformat": 4,
 "nbformat_minor": 4
}
